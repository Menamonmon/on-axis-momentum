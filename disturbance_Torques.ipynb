{
 "cells": [
  {
   "cell_type": "code",
   "execution_count": 15,
   "metadata": {},
   "outputs": [
    {
     "name": "stdout",
     "output_type": "stream",
     "text": [
      "Solar Radiation Torque\n",
      "1.2675e-05\n",
      "Magnetic Field Torque\n",
      "5.080526342529086e-19\n",
      "Gravity Gradient\n",
      "0.011573753774530165\n",
      "Total Torque\n",
      "0.011586428774530165\n"
     ]
    },
    {
     "data": {
      "text/plain": [
       "\"\\n#Required Torque is any of the Torques*1.25 or Slew Torque\\ndef calculateSlewTorque(theta, I, t):\\n  return 4*theta*I*(t**2)\\n\\nI= (1/12)*60*65*65 \\n#slew angle\\n#t = time where slew maneuvers must be performed\\n\\nTd = SumDisturbanceTorques *1.25\\n\\n#Required Momentum Storage\\ndef calcMomentumStorage(Td, P):\\n  return Td*(P**4)\\n\\n# Td Slew Torque\\n# P Period of the Solar Sail's Orbit\\n\\n#Calculation of Aerodynamic Torque\\n#assume it is negligible because not much air in space\\ndef calculateAeroTorque(p, C, A, V, Cg, Cp):\\n  return 0.5*(p*C*A*V^2)*(Cp-Cg)\\n\\n# p = atmosphere density\\n# Cd = #drag coefficient\\n# A = #area of the front-facing satellite\\n# V = #spacecraft's velocity\\n# Cg = #center of gravity\\n# Cp = #center of aerodynamic pressure\\n\""
      ]
     },
     "execution_count": 15,
     "metadata": {},
     "output_type": "execute_result"
    }
   ],
   "source": [
    "\"\"\"Calculations_Disturbance_Torques.ipynb\n",
    "Original file is located at\n",
    "    https://colab.research.google.com/drive/1b3scBauWIFCO3S7pDyM5HyxRLg6FP0ot\n",
    "\"\"\"\n",
    "# Disturbance Torques Calculation\n",
    "import math\n",
    "\n",
    "\"\"\"\n",
    "J = 15 #Js\n",
    "c = 3*10**8\n",
    "As = 65*65 #total surface area\n",
    "I = 0 #angle of incidence of the solar radiation -> max of cos(I) is 1\n",
    "q = 0.6 #reflectance factor\n",
    "\"\"\"\n",
    "#Solar Radiation Torque\n",
    "def calculateSolarRad(J,c,A,I,q):\n",
    "  # in Newtons\n",
    "  return (J*A*q)/c\n",
    "solarRadiationTorque = calculateSolarRad(1.5,(3*10**8),(65*65),0,0.6)\n",
    "print(\"Solar Radiation Torque\")\n",
    "print(solarRadiationTorque)\n",
    "\n",
    "\"\"\"\n",
    "B = 10000#magnetic field strength in teslas\n",
    "c = 1 #approximation constant 1-> polar orbit 2-> equatorial orbit\n",
    "R = 27*10**6#distance to Neptune's dipole center in meters\n",
    "#D is satellite's dipole (minimize by including twist in cables)\n",
    "\"\"\"\n",
    "#Magnetic Field Torque\n",
    "def calculateMagField(B, c, R):\n",
    "  return float(B)*float(c)/float(R)**3\n",
    "magneticFieldTorque = calculateMagField(10000,1,27*10**6)\n",
    "print(\"Magnetic Field Torque\")\n",
    "print(magneticFieldTorque)\n",
    "\n",
    "\"\"\"\n",
    "Iz= (1/12)*60*(65^2*65^2) #moments of inertia, assume it is a rectangular plane (1/12)*m*(a^2+b^2)\n",
    "Iy= (1/12)*60*65*65 #I= (1/12)*m*(b^2)\n",
    "theta = math.pi/2#max angle the local vertical makes from the z-axis\n",
    "mu = (6.67*10**-11)*(1.024*10**26) #planetary constant, -G*mass of planet\n",
    "R = 24622000 #distance to Neptune's dipole center in meters\n",
    "\"\"\"\n",
    "#Gravity Gradient Torque\n",
    "def calculateGravityGradient(mu, R, Iz, Iy, theta):\n",
    "  return (3.0*float(mu**2)*(float(Iz)-float(Iy))*math.sin(2.0*theta))/(2*float(R**3))\n",
    "gravityGradient = -calculateGravityGradient((6.67*10**-11)*(1.024*10**26), 24622000,(1/12)*60*(65^2*65^2),(1/12)*60*65*65, math.pi/2)\n",
    "print(\"Gravity Gradient\")\n",
    "print(gravityGradient)\n",
    "\n",
    "#Sum Torques\n",
    "print(\"Total Torque\")\n",
    "SumDisturbanceTorques = magneticFieldTorque+gravityGradient+solarRadiationTorque\n",
    "print(SumDisturbanceTorques)\n",
    "\n",
    "\"\"\"\n",
    "#Required Torque is any of the Torques*1.25 or Slew Torque\n",
    "def calculateSlewTorque(theta, I, t):\n",
    "  return 4*theta*I*(t**2)\n",
    "\n",
    "I= (1/12)*60*65*65 \n",
    "#slew angle\n",
    "#t = time where slew maneuvers must be performed\n",
    "\n",
    "Td = SumDisturbanceTorques *1.25\n",
    "\n",
    "#Required Momentum Storage\n",
    "def calcMomentumStorage(Td, P):\n",
    "  return Td*(P**4)\n",
    "\n",
    "# Td Slew Torque\n",
    "# P Period of the Solar Sail's Orbit\n",
    "\n",
    "#Calculation of Aerodynamic Torque\n",
    "#assume it is negligible because not much air in space\n",
    "def calculateAeroTorque(p, C, A, V, Cg, Cp):\n",
    "  return 0.5*(p*C*A*V^2)*(Cp-Cg)\n",
    "\n",
    "# p = atmosphere density\n",
    "# Cd = #drag coefficient\n",
    "# A = #area of the front-facing satellite\n",
    "# V = #spacecraft's velocity\n",
    "# Cg = #center of gravity\n",
    "# Cp = #center of aerodynamic pressure\n",
    "\"\"\""
   ]
  },
  {
   "cell_type": "code",
   "execution_count": null,
   "metadata": {},
   "outputs": [],
   "source": []
  }
 ],
 "metadata": {
  "kernelspec": {
   "display_name": "Python 3.10.8 64-bit",
   "language": "python",
   "name": "python3"
  },
  "language_info": {
   "codemirror_mode": {
    "name": "ipython",
    "version": 3
   },
   "file_extension": ".py",
   "mimetype": "text/x-python",
   "name": "python",
   "nbconvert_exporter": "python",
   "pygments_lexer": "ipython3",
   "version": "3.10.8"
  },
  "orig_nbformat": 4,
  "vscode": {
   "interpreter": {
    "hash": "b0fa6594d8f4cbf19f97940f81e996739fb7646882a419484c72d19e05852a7e"
   }
  }
 },
 "nbformat": 4,
 "nbformat_minor": 2
}
