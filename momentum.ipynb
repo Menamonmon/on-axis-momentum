{
 "cells": [
  {
   "cell_type": "code",
   "execution_count": 58,
   "metadata": {},
   "outputs": [
    {
     "name": "stdout",
     "output_type": "stream",
     "text": [
      "Tgy: 0.004302640364441396, Tgx: 0.004302640364441396\n",
      "Total momentum storage over the course of the mission: 1858.7406374386833\n"
     ]
    }
   ],
   "source": [
    "import numpy as np\n",
    "%matplotlib inline\n",
    "import matplotlib.pyplot as plt\n",
    "from scipy.integrate import odeint\n",
    "import ipywidgets as wg\n",
    "from IPython.display import display\n",
    "\n",
    "mu = 6.836529e15\n",
    "R = 27e6\n",
    "boom_mass = 10\n",
    "boom_length = 32.5\n",
    "additional_boom_end_mass = .018 * 32\n",
    "\n",
    "Iz = (4 * ((boom_mass * boom_length ** 2 / 3) + (additional_boom_end_mass * boom_length ** 2)))\n",
    "Ix = Iz / 2\n",
    "Iy = Iz / 2\n",
    "theta_x = np.pi/2\n",
    "theta_y = np.pi/2\n",
    "\n",
    "Tgx = 3 * (mu / (2 * R ** 3)) * np.abs(Iz - Iy)\n",
    "Tgy = 3 * (mu / (2 * R ** 3)) * np.abs(Iz - Ix)\n",
    "print(f\"Tgy: {Tgy}, Tgx: {Tgx}\")\n",
    "\n",
    "total_momentum_storage = (Tgy + Tgx) * 2.5 * 60 * 60 * 24\n",
    "print(\"Total momentum storage over the course of the mission:\", total_momentum_storage)\n"
   ]
  },
  {
   "cell_type": "code",
   "execution_count": 59,
   "metadata": {},
   "outputs": [
    {
     "name": "stdout",
     "output_type": "stream",
     "text": [
      "13.238893429050448\n",
      "1.872\n",
      "1.04\n"
     ]
    }
   ],
   "source": [
    "# Calculation for torque producted from electrospray thrusters on one axis\n",
    "\n",
    "force_per_thruster_unit = 5e-6\n",
    "desired_torque_output = Tgy * 2\n",
    "number_of_units_per_array = desired_torque_output / (force_per_thruster_unit * boom_length * 4)\n",
    "print(number_of_units_per_array) # ~ 13\n",
    "ethruster_array_mass = 0.234\n",
    "ethruster_array_power_usage = 130e-3\n",
    "\n",
    "print(ethruster_array_mass * 8) # total ethrusters system mass\n",
    "print(ethruster_array_power_usage * 8) # total power consumption for ethrusters"
   ]
  },
  {
   "cell_type": "code",
   "execution_count": 60,
   "metadata": {},
   "outputs": [
    {
     "data": {
      "application/vnd.jupyter.widget-view+json": {
       "model_id": "1d5b054e7024402da20f1790217676ab",
       "version_major": 2,
       "version_minor": 0
      },
      "text/plain": [
       "interactive(children=(FloatSlider(value=0.1, description='Kc', max=1.0, min=-0.2, step=0.05), FloatSlider(valu…"
      ]
     },
     "metadata": {},
     "output_type": "display_data"
    },
    {
     "data": {
      "text/plain": [
       "<function __main__.pidPlot(Kc, tauI, tauD)>"
      ]
     },
     "execution_count": 60,
     "metadata": {},
     "output_type": "execute_result"
    }
   ],
   "source": [
    "n = 100 # time points to plot\n",
    "tf = 20.0 # final time\n",
    "SP_start = 2.0 # time of set point change\n",
    "\n",
    "def process(y,t,u):\n",
    "    Kp = 4.0\n",
    "    taup = 3.0\n",
    "    thetap = 1.0\n",
    "    if t<(thetap+SP_start):\n",
    "        dydt = 0.0  # time delay\n",
    "    else:\n",
    "        dydt = (1.0/taup) * (-y + Kp * u)\n",
    "    return dydt\n",
    "\n",
    "def pidPlot(Kc,tauI,tauD):\n",
    "    t = np.linspace(0,tf,n) # create time vector\n",
    "    P= np.zeros(n)          # initialize proportional term\n",
    "    I = np.zeros(n)         # initialize integral term\n",
    "    D = np.zeros(n)         # initialize derivative term\n",
    "    e = np.zeros(n)         # initialize error\n",
    "    OP = np.zeros(n)        # initialize controller output\n",
    "    PV = np.zeros(n)        # initialize process variable\n",
    "    SP = np.zeros(n)        # initialize setpoint\n",
    "\n",
    "\n",
    "    SP_step = int(SP_start/(tf/(n-1))+1) # setpoint start\n",
    "    SP[0:SP_step] = 0.0     # define setpoint\n",
    "    SP[SP_step:n] = 4.0     # step up\n",
    "    y0 = 0.0                # initial condition\n",
    "    # loop through all time steps\n",
    "    for i in range(1,n):\n",
    "        # simulate process for one time step\n",
    "        ts = [t[i-1],t[i]]         # time interval\n",
    "        y = odeint(process,y0,ts,args=(OP[i-1],))  # compute next step\n",
    "        y0 = y[1]                  # record new initial condition\n",
    "        # calculate new OP with PID\n",
    "        PV[i] = y[1]               # record PV\n",
    "        e[i] = SP[i] - PV[i]       # calculate error = SP - PV\n",
    "        dt = t[i] - t[i-1]         # calculate time step\n",
    "        P[i] = Kc * e[i]           # calculate proportional term\n",
    "        I[i] = I[i-1] + (Kc/tauI) * e[i] * dt  # calculate integral term\n",
    "        D[i] = -Kc * tauD * (PV[i]-PV[i-1])/dt # calculate derivative term\n",
    "        OP[i] = P[i] + I[i] + D[i] # calculate new controller output\n",
    "        \n",
    "    # plot PID response\n",
    "    plt.figure(1,figsize=(15,7))\n",
    "    plt.subplot(2,2,1)\n",
    "    plt.plot(t,SP,'k-',linewidth=2,label='Setpoint (SP)')\n",
    "    plt.plot(t,PV,'r:',linewidth=2,label='Process Variable (PV)')\n",
    "    plt.legend(loc='best')\n",
    "    plt.subplot(2,2,2)\n",
    "    plt.plot(t,P,'g.-',linewidth=2,label=r'Proportional = $K_c \\; e(t)$')\n",
    "    plt.plot(t,I,'b-',linewidth=2,label=r'Integral = $\\frac{K_c}{\\tau_I} \\int_{i=0}^{n_t} e(t) \\; dt $')\n",
    "    plt.plot(t,D,'r--',linewidth=2,label=r'Derivative = $-K_c \\tau_D \\frac{d(PV)}{dt}$')    \n",
    "    plt.legend(loc='best')\n",
    "    plt.subplot(2,2,3)\n",
    "    plt.plot(t,e,'m--',linewidth=2,label='Error (e=SP-PV)')\n",
    "    plt.legend(loc='best')\n",
    "    plt.subplot(2,2,4)\n",
    "    plt.plot(t,OP,'b--',linewidth=2,label='Controller Output (OP)')\n",
    "    plt.legend(loc='best')\n",
    "    plt.xlabel('time')\n",
    "    \n",
    "Kc_slide = wg.FloatSlider(value=0.1,min=-0.2,max=1.0,step=0.05)\n",
    "tauI_slide = wg.FloatSlider(value=4.0,min=0.01,max=5.0,step=0.1)\n",
    "tauD_slide = wg.FloatSlider(value=0.0,min=0.0,max=1.0,step=0.1)\n",
    "wg.interact(pidPlot, Kc=Kc_slide, tauI=tauI_slide, tauD=tauD_slide)"
   ]
  }
 ],
 "metadata": {
  "kernelspec": {
   "display_name": "Python 3.10.8 64-bit",
   "language": "python",
   "name": "python3"
  },
  "language_info": {
   "codemirror_mode": {
    "name": "ipython",
    "version": 3
   },
   "file_extension": ".py",
   "mimetype": "text/x-python",
   "name": "python",
   "nbconvert_exporter": "python",
   "pygments_lexer": "ipython3",
   "version": "3.10.8"
  },
  "orig_nbformat": 4,
  "vscode": {
   "interpreter": {
    "hash": "b0fa6594d8f4cbf19f97940f81e996739fb7646882a419484c72d19e05852a7e"
   }
  }
 },
 "nbformat": 4,
 "nbformat_minor": 2
}
