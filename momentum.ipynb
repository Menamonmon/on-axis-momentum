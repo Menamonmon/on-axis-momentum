{
  "cells": [
    {
      "cell_type": "code",
      "execution_count": 2,
      "metadata": {},
      "outputs": [
        {
          "name": "stdout",
          "output_type": "stream",
          "text": [
            "Tgy: 0.0027162985383973478, Tgx: 0.0027162985383973478\n",
            "Total momentum storage over the course of the mission: 1173.4409685876544\n"
          ]
        }
      ],
      "source": [
        "import numpy as np\n",
        "%matplotlib inline\n",
        "import matplotlib.pyplot as plt\n",
        "from scipy.integrate import odeint\n",
        "import ipywidgets as wg\n",
        "from IPython.display import display\n",
        "\n",
        "\n",
        "# Gravity gradient torque from Neptune\n",
        "mu = 6.836529e15\n",
        "R = 27e6\n",
        "boom_mass = 6\n",
        "boom_length = 32.5\n",
        "additional_boom_end_mass = 0.234 * 2\n",
        "\n",
        "Iz = (4 * ((boom_mass * boom_length ** 2 / 3) + (additional_boom_end_mass * boom_length ** 2)))\n",
        "Ix = Iz / 2\n",
        "Iy = Iz / 2\n",
        "theta_x = np.pi/2\n",
        "theta_y = np.pi/2\n",
        "\n",
        "Tgx = 3 * (mu / (2 * R ** 3)) * np.abs(Iz - Iy)\n",
        "Tgy = 3 * (mu / (2 * R ** 3)) * np.abs(Iz - Ix)\n",
        "print(f\"Tgy: {Tgy}, Tgx: {Tgx}\")\n",
        "\n",
        "total_momentum_storage = (Tgy + Tgx) * 2.5 * 60 * 60 * 24\n",
        "print(\"Total momentum storage over the course of the mission:\", total_momentum_storage)\n"
      ]
    },
    {
      "cell_type": "code",
      "execution_count": 3,
      "metadata": {},
      "outputs": [
        {
          "name": "stdout",
          "output_type": "stream",
          "text": [
            "Tgy: 0.00013532116814063416, Tgx: 0.00013532116814063416\n",
            "Total momentum storage over the course of the mission: 58.458744636753956\n"
          ]
        }
      ],
      "source": [
        "\n",
        "# Gravity gradient torque from Triton\n",
        "mu = 2.139e22 * 6.67430e-11\n",
        "R = (3e3 + 1353.39393) * 1000\n",
        "boom_mass = 6\n",
        "boom_length = 32.5\n",
        "additional_boom_end_mass = 0.234 * 2\n",
        "\n",
        "Iz = (4 * ((boom_mass * boom_length ** 2 / 3) + (additional_boom_end_mass * boom_length ** 2)))\n",
        "Ix = Iz / 2\n",
        "Iy = Iz / 2\n",
        "theta_x = np.pi/2\n",
        "theta_y = np.pi/2\n",
        "\n",
        "Tgx = 3 * (mu / (2 * R ** 3)) * np.abs(Iz - Iy)\n",
        "Tgy = 3 * (mu / (2 * R ** 3)) * np.abs(Iz - Ix)\n",
        "print(f\"Tgy: {Tgy}, Tgx: {Tgx}\")\n",
        "\n",
        "total_momentum_storage = (Tgy + Tgx) * 2.5 * 60 * 60 * 24\n",
        "print(\"Total momentum storage over the course of the mission:\", total_momentum_storage)"
      ]
    },
    {
      "cell_type": "code",
      "execution_count": 4,
      "metadata": {},
      "outputs": [
        {
          "name": "stdout",
          "output_type": "stream",
          "text": [
            "0.4163728250481051\n",
            "1.872\n",
            "1.04\n"
          ]
        }
      ],
      "source": [
        "# Calculation for torque producted from electrospray thrusters on one axis\n",
        "\n",
        "force_per_thruster_unit = 5e-6\n",
        "desired_torque_output = Tgy * 2\n",
        "number_of_units_per_array = desired_torque_output / (force_per_thruster_unit * boom_length * 4)\n",
        "print(number_of_units_per_array) # ~ 13\n",
        "ethruster_array_mass = 0.234\n",
        "ethruster_array_power_usage = 130e-3\n",
        "\n",
        "print(ethruster_array_mass * 8) # total ethrusters system mass\n",
        "print(ethruster_array_power_usage * 8) # total power consumption for ethrusters\n"
      ]
    },
    {
      "cell_type": "code",
      "execution_count": 5,
      "metadata": {},
      "outputs": [
        {
          "data": {
            "application/vnd.jupyter.widget-view+json": {
              "model_id": "e821cadb2ae2474794ed1701c5166ee8",
              "version_major": 2,
              "version_minor": 0
            },
            "text/plain": [
              "interactive(children=(FloatSlider(value=0.24, description='Kc', max=1.0, min=-0.2, step=0.0001), FloatSlider(v…"
            ]
          },
          "metadata": {},
          "output_type": "display_data"
        },
        {
          "name": "stdout",
          "output_type": "stream",
          "text": [
            "1.4885158239330565e-07\n"
          ]
        }
      ],
      "source": [
        "cmg_tau_max = 10\n",
        "\n",
        "n = 300 # time points to plot\n",
        "tf = 300.0 # final time\n",
        "SP_start = 2.0 # time of set point change\n",
        "ci = 50\n",
        "\n",
        "SPs = np.random.randint(0, 30, ci)\n",
        "final_e = np.ones(n // ci)\n",
        "\n",
        "def process(y,t,u):\n",
        "\tKp = 4.0\n",
        "\ttaup = 3.0\n",
        "\tthetap = 1.0\n",
        "\tif t<(thetap+SP_start):\n",
        "\t\tdydt = 0.0  # time delay\n",
        "\telse:\n",
        "\t\tdydt = (1.0/taup) * (-y + Kp * u)\n",
        "\treturn dydt\n",
        "\n",
        "def pidPlot(Kc,tauI,tauD):\n",
        "\tt = np.linspace(0,tf,n) # create time vector\n",
        "\tP= np.zeros(n)          # initialize proportional term\n",
        "\tI = np.zeros(n)         # initialize integral term\n",
        "\tD = np.zeros(n)         # initialize derivative term\n",
        "\te = np.zeros(n)         # initialize error\n",
        "\tOP = np.zeros(n)        # initialize controller output\n",
        "\tPV = np.zeros(n)        # initialize process variable\n",
        "\tSP = np.zeros(n)        # initialize setpoint\n",
        "\n",
        "\t\n",
        "\t# alpha_x = Tgx / Ix\n",
        "\t# delta_theta = 0.5 * alpha_x * ((tf / n) ** 2)\n",
        "\t# delta_theta_arcmin = delta_theta * 216e2 / (2 * np.pi) \n",
        "\tSP_step = int(SP_start/(tf/(n-1))+1) # setpoint start\n",
        "\tSP[0:SP_step] = 0.0     # define setpoint\n",
        "\tSP[SP_step:n] = 4.0     # step up\n",
        "\ty0 = 0.0                # initial condition\n",
        "\n",
        "\tfor i in range(n):\n",
        "\t\tSP[i] = SPs[i // ci]\n",
        "\t# loop through all time steps\n",
        "\tfor i in range(1,n):\n",
        "\t\t# simulate process for one time step\n",
        "\t\tts = [t[i-1],t[i]]         # time interval\n",
        "\t\ty = odeint(process,y0,ts,args=(OP[i-1],))  # compute next step\n",
        "\t\ttemp = y0\n",
        "\t\ty0 = y[1]                  # record new initial condition\n",
        "\t\t# calculate new OP with PID\n",
        "\t\tPV[i] = y[1]               # record PV\n",
        "\t\te[i] = SP[i] - PV[i]       # calculate error = SP - PV\n",
        "\t\tdt = t[i] - t[i-1]         # calculate time step\n",
        "\t\tP[i] = Kc * e[i]           # calculate proportional term\n",
        "\t\tI[i] = I[i-1] + (Kc/tauI) * e[i] * dt  # calculate integral term\n",
        "\t\tD[i] = -Kc * tauD * (PV[i]-PV[i-1])/dt # calculate derivative term\n",
        "\t\tOP[i] = P[i] + I[i] + D[i] # calculate new controller output\n",
        "\t\n",
        "\t\t##################\n",
        "\t\ta = 0.0\n",
        "\t\ta = (PV[i] / ts)\n",
        "\t\ttau = Iz * a\n",
        "\t\tmax_possible_tau = (cmg_tau_max) + (force_per_thruster_unit * boom_length)\n",
        "\t\tif tau > max_possible_tau:\n",
        "\t\t\tPV[i] = temp\n",
        "\t\t\n",
        "\t\t\t#NOTE FOR FUTURE SELF: USE FINITE DIFFERENCES TO FIND SECOND DERIVATIVE!!!!!!!!!!! must use angular acceleration, not velocity.\n",
        "\t\t\t\n",
        "\n",
        "\n",
        "\t\t##################\n",
        "\n",
        "\tfor i in range(n):\n",
        "\t\tfinal_e[i//ci] = e[i]\n",
        "\t# plot PID response\n",
        "\tplt.figure(1,figsize=(15,7))\n",
        "\tplt.subplot(2,2,1)\n",
        "\tplt.plot(t,SP,'k-',linewidth=2,label='Setpoint (SP)')\n",
        "\tplt.plot(t,PV,'r-',linewidth=2,label='Process Variable (PV)')\n",
        "\tplt.legend(loc='best')\n",
        "\tplt.subplot(2,2,2)\n",
        "\tplt.plot(t,P,'g.-',linewidth=2,label=r'Proportional = $K_c \\; e(t)$')\n",
        "\tplt.plot(t,I,'b-',linewidth=2,label=r'Integral = $\\frac{K_c}{\\tau_I} \\int_{i=0}^{n_t} e(t) \\; dt $')\n",
        "\tplt.plot(t,D,'r--',linewidth=2,label=r'Derivative = $-K_c \\tau_D \\frac{d(PV)}{dt}$')    \n",
        "\tplt.legend(loc='best')\n",
        "\tplt.subplot(2,2,3)\n",
        "\tplt.plot(t,e,'m--',linewidth=2,label='Error (e=SP-PV)')\n",
        "\tplt.legend(loc='best')\n",
        "\tplt.subplot(2,2,4)\n",
        "\tplt.plot(t,OP,'b--',linewidth=2,label='Controller Output (OP)')\n",
        "\tplt.legend(loc='best')\n",
        "\tplt.xlabel('time')\n",
        "\n",
        "Kc_slide = wg.FloatSlider(value=0.24,min=-0.2,max=1.0,step=0.0001) # 0.25\n",
        "tauI_slide = wg.FloatSlider(value=2.46,min=0.01,max=5.0,step=0.0001) # 4.00\n",
        "tauD_slide = wg.FloatSlider(value=0.0,min=0.0,max=1.0,step=0.0001) # 0.00\n",
        "wg.interact(pidPlot, Kc=Kc_slide, tauI=tauI_slide, tauD=tauD_slide)\n",
        "print(np.max(final_e))"
      ]
    },
    {
      "cell_type": "code",
      "execution_count": 16,
      "metadata": {},
      "outputs": [
        {
          "name": "stdout",
          "output_type": "stream",
          "text": [
            "Test Case:\n",
            "Failure: desired torque exceeds system maximum. Thrust will continue at maximum across PID interval.\n"
          ]
        },
        {
          "data": {
            "text/plain": [
              "1"
            ]
          },
          "execution_count": 16,
          "metadata": {},
          "output_type": "execute_result"
        }
      ],
      "source": [
        "import numpy as np\n",
        "\n",
        "def allocation(a, I, esp_thrust_max, cmg_tau_max, cmg_l_max, boom_length, tolerance, e_arcmin, cmg_unload_rate):\n",
        "    # cmg_unload_rate defines the percent of fastest momentum dump rate that will be tolerated\n",
        "    # set percent CMG and ESP utilization to 0\n",
        "    empty_dict = dict()\n",
        "    usage = dict()\n",
        "    usage['esp'] = 0.0\n",
        "    usage['cmg'] = 0.0\n",
        "\n",
        "    # calculate required tau, and max ESP tau\n",
        "    tau = I * a\n",
        "    esp_tau_max = esp_thrust_max * boom_length\n",
        "\n",
        "    # set CMG momentum storage to 0\n",
        "    cmg_l = 0\n",
        "\n",
        "    # calculate CMG momentum tolerance\n",
        "    cmg_l_tol = cmg_l_max * float(tolerance)\n",
        "\n",
        "    #if desired torque is beyond system capability, return 1\n",
        "    if tau > (esp_tau_max + cmg_tau_max):\n",
        "        usage['esp'] = 1.0\n",
        "        usage['cmg'] = 1.0\n",
        "        print(\"Failure: desired torque exceeds system maximum. Thrust will continue at maximum across PID interval.\")\n",
        "        return 1\n",
        "\n",
        "    # if error is less than 0.1 arcmin (25% of budget), begin unloading momentum by counter-torquing ESPs and CMGs\n",
        "    if e_arcmin <= 0.1 and tau <= esp_tau_max:\n",
        "        usage['esp'] = tau / esp_tau_max\n",
        "        if cmg_l > 0:\n",
        "            unload_tau = (esp_tau_max - usage['esp'] * esp_tau_max) * cmg_unload_rate\n",
        "            usage['esp'] = (tau + unload_tau) / esp_tau_max\n",
        "\n",
        "    # if CMGs are fully saturated and system is not near desired position:\n",
        "    elif cmg_l >= cmg_l_tol:\n",
        "        usage['esp'] = tau / esp_tau_max\n",
        "\n",
        "    # if CMGs are not fully saturated and system is not near desired position:\n",
        "    elif cmg_l < cmg_l_tol:\n",
        "        # if desired torque is less than maximum capacity of CMGs:\n",
        "        if tau <= cmg_tau_max:\n",
        "            usage['cmg'] = tau / cmg_tau_max\n",
        "        # if desired torque is greater than capacity of CMGs:\n",
        "        elif tau >= cmg_tau_max:\n",
        "            usage['cmg'] = 1.0\n",
        "            usage['esp'] = (tau - cmg_tau_max) / esp_tau_max\n",
        "\n",
        "    return usage\n",
        "    \n",
        "        \n",
        "print(\"Test Case:\")\n",
        "allocation(10,6,2,7,2,7,5,2,9)\n",
        "        \n",
        "\n",
        "        \n",
        "        \n",
        "    \n",
        "\n",
        "\n",
        "    "
      ]
    }
  ],
  "metadata": {
    "kernelspec": {
      "display_name": "Python 3",
      "language": "python",
      "name": "python3"
    },
    "language_info": {
      "codemirror_mode": {
        "name": "ipython",
        "version": 3
      },
      "file_extension": ".py",
      "mimetype": "text/x-python",
      "name": "python",
      "nbconvert_exporter": "python",
      "pygments_lexer": "ipython3",
      "version": "3.10.9"
    },
    "orig_nbformat": 4,
    "vscode": {
      "interpreter": {
        "hash": "89da10480825c8ad24c96d10788e772e9a68ac77e314b3c42d655a8c40ed70a5"
      }
    }
  },
  "nbformat": 4,
  "nbformat_minor": 2
}
