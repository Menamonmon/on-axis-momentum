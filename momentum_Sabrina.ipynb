{
 "cells": [
  {
   "cell_type": "code",
   "execution_count": 2,
   "metadata": {},
   "outputs": [],
   "source": [
    "import math"
   ]
  },
  {
   "cell_type": "code",
   "execution_count": 12,
   "metadata": {},
   "outputs": [],
   "source": [
    "import numpy as np"
   ]
  },
  {
   "cell_type": "code",
   "execution_count": 16,
   "metadata": {},
   "outputs": [
    {
     "ename": "ModuleNotFoundError",
     "evalue": "No module named 'matplotlib'",
     "output_type": "error",
     "traceback": [
      "\u001b[0;31m---------------------------------------------------------------------------\u001b[0m",
      "\u001b[0;31mModuleNotFoundError\u001b[0m                       Traceback (most recent call last)",
      "Cell \u001b[0;32mIn[16], line 1\u001b[0m\n\u001b[0;32m----> 1\u001b[0m \u001b[39mimport\u001b[39;00m \u001b[39mmatplotlib\u001b[39;00m\n",
      "\u001b[0;31mModuleNotFoundError\u001b[0m: No module named 'matplotlib'"
     ]
    }
   ],
   "source": [
    "import matplotlib"
   ]
  },
  {
   "cell_type": "code",
   "execution_count": 19,
   "metadata": {},
   "outputs": [],
   "source": [
    "#Actuator: (Magnetotorquer)\n",
    "\n",
    "class magneticTorquer():\n",
    "\n",
    "\n",
    "    def __init__(self, name, mass, powerConsumption, torqueOutput, totalPowerExpenditure, orientation):\n",
    "        self.name = name\n",
    "        self.mass = mass\n",
    "        self.powerConsumption = powerConsumption\n",
    "        self.torqueOutput = torqueOutput\n",
    "        self.relativePosition = [0,\"x\"]\n",
    "        self.totalPowerExpenditure = totalPowerExpenditure\n",
    "        self.orientation = orientation\n",
    "    \n",
    "\n",
    "    def getName(self):\n",
    "        return self.__name\n",
    "    def setName(self, newName):\n",
    "        self.__name = newName\n",
    "\n",
    "    def getMass(self):\n",
    "        return self.__mass #7.5 kg?\n",
    "    def setMass(self, newMass):\n",
    "        self.__mass = newMass\n",
    "    \n",
    "    def getPowerConsumption(self):\n",
    "        return self.__powerConsumption \n",
    "    def setPowerConsumption(self, newPowerConsumption):\n",
    "        self.__powerConsumption = newPowerConsumption\n",
    "    \n",
    "    def getTorqueOutput(self):\n",
    "        return self.__torqueOutput\n",
    "    def setTorqueOutput(self, newTorqueOutput):\n",
    "        self.__torqueOutput = self.newTorqueOutput\n",
    "    \n",
    "    def getRelativePosition(self): #ranges from (-32.5,32.5) m, x y, (distance from the center, axis)\n",
    "        return self.__relativePosition\n",
    "    def getDistanceOrigin(self):\n",
    "        return self.relativePosition[0]\n",
    "    def getPositionAxis(self):\n",
    "        return str(self.relativePosition[1])\n",
    "    def setRelativePosition(self, distance, axis):\n",
    "        if axis not in {\"x\", \"y\"}:\n",
    "            raise AssertionError\n",
    "        self.__relativePosition = np.array([np.clip(distance, -32.5, 32.5),axis])\n",
    "    def setRelativePosition(self):\n",
    "        self.relativePosition = [0,\"x\"]\n",
    "    def setRelativePosition(self, newRelativePosition):\n",
    "        self.__relativePosition = self.newRelativePosition\n",
    "    def setDistanceOrigin(self, distance):\n",
    "        self.__relativePosition[0] = np.array([np.clip(distance, -32.5, 32.5),self.__relativePosition[1]])\n",
    "    def setPositionAxis(self, axis):\n",
    "        if axis not in {\"x\", \"y\"}:\n",
    "            raise AssertionError\n",
    "        self.__relativePosition[0] = np.array(self.__relativePosition[0], axis)\n",
    "\n",
    "    def getTotalPowerExpenditure(self):\n",
    "        return self.__totalPowerExpenditure\n",
    "    \n",
    "    def getOrientation(self): #the name of the axis it is on (+y/-y)\n",
    "        return self.__orientation\n",
    "    "
   ]
  },
  {
   "cell_type": "code",
   "execution_count": null,
   "metadata": {},
   "outputs": [],
   "source": []
  }
 ],
 "metadata": {
  "kernelspec": {
   "display_name": "Python 3.8.9 64-bit",
   "language": "python",
   "name": "python3"
  },
  "language_info": {
   "codemirror_mode": {
    "name": "ipython",
    "version": 3
   },
   "file_extension": ".py",
   "mimetype": "text/x-python",
   "name": "python",
   "nbconvert_exporter": "python",
   "pygments_lexer": "ipython3",
   "version": "3.8.9"
  },
  "orig_nbformat": 4,
  "vscode": {
   "interpreter": {
    "hash": "31f2aee4e71d21fbe5cf8b01ff0e069b9275f58929596ceb00d14d90e3e16cd6"
   }
  }
 },
 "nbformat": 4,
 "nbformat_minor": 2
}
