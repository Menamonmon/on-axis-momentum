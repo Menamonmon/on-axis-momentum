{
 "cells": [
  {
   "cell_type": "code",
   "execution_count": 22,
   "metadata": {},
   "outputs": [],
   "source": [
    "import numpy as np\n",
    "%matplotlib inline\n",
    "import matplotlib.pyplot as plt\n",
    "from scipy.integrate import odeint\n",
    "import ipywidgets as wg\n",
    "from IPython.display import display\n",
    "import pandas as pd\n",
    "import math\n",
    "\n",
    "dataframe = pd.read_csv(\"./data/cached_disturbances_time_series.csv\")"
   ]
  },
  {
   "cell_type": "code",
   "execution_count": 23,
   "metadata": {},
   "outputs": [
    {
     "name": "stdout",
     "output_type": "stream",
     "text": [
      "5\n",
      "Total mass of all e-thrusters:  1.0866763636363634\n",
      "Total power consumption for all e-thrusters:  0.6000000000000001\n"
     ]
    }
   ],
   "source": [
    "# Given Mission Constant and ScienceCraft Dimensions\n",
    "mission_duration = 2.16e5\n",
    "boom_mass = 6\n",
    "boom_length = 32.5\n",
    "bus_mass = 36\n",
    "bus_length = 10\n",
    "max_spectorometer_distance_from_center = 20\n",
    "\n",
    "# Electrospray Thrusters Dimensioning Calculations\n",
    "fuel_mass_per_impulse_per_unit = 1.7e-2 / 165\n",
    "force_per_thruster_unit = 5e-6\n",
    "\n",
    "unit_impulse_req = force_per_thruster_unit * mission_duration\n",
    "\n",
    "single_unit_fuel_mass = unit_impulse_req * fuel_mass_per_impulse_per_unit\n",
    "single_unit_mass = 1.8e-2 + single_unit_fuel_mass\n",
    "\n",
    "power_consumption_per_unit = 1e-2\n",
    "desired_torque_output_xy = np.max(dataframe[\"T\"]) * 4 # 4x disturbance torque for x and y\n",
    "desired_torque_output_z = np.max(dataframe[\"T\"]) # 1x disturbance torque for z (b/c it will never reach 1x as most the current disturbance is in the xy)\n",
    "number_of_units_per_array = math.ceil(desired_torque_output_xy / (force_per_thruster_unit * boom_length * 4))\n",
    "print(number_of_units_per_array) # ~ 1 (2x the value given)\n",
    "# ethruster_array_mass = \n",
    "# ethruster_array_power_usage = 130e-3\n",
    "\n",
    "thruster_arrays = 8 + 4\n",
    "\n",
    "e_thrusters_total_mass = single_unit_mass * number_of_units_per_array * thruster_arrays\n",
    "e_thrusters_total_power_consumption = power_consumption_per_unit * number_of_units_per_array * thruster_arrays\n",
    "print(\"Total mass of all e-thrusters: \", e_thrusters_total_mass) # total ethrusters system mass\n",
    "print(\"Total power consumption for all e-thrusters: \", e_thrusters_total_power_consumption) # total power consumption for ethrusters"
   ]
  },
  {
   "cell_type": "code",
   "execution_count": 40,
   "metadata": {},
   "outputs": [
    {
     "name": "stdout",
     "output_type": "stream",
     "text": [
      "343.1888846569107\n",
      "55.768193756748\n"
     ]
    }
   ],
   "source": [
    "# Calculating the momentum acculumulation from disturbances over the course of the mission\n",
    "T_max = np.max(dataframe[\"T\"])\n",
    "\n",
    "total_momentum_from_T = T_max * mission_duration\n",
    "\n",
    "# Sample momentum from a collision\n",
    "# sample_momentum_from_a_collision = 0.01 * 50 * 0.5 * boom_length # (0.01 period of collision * 1000m/s * 0.5kg)\n",
    "sample_momentum_from_a_collision = 0\n",
    "max_dissipation_time = 60 * 60 * 5\n",
    "sample_momentum_from_a_collision = max_dissipation_time * desired_torque_output_xy\n",
    "sample_momentum_from_a_collision\n",
    "\n",
    "# 1/2kg object colliding with the very edge of the ScienceCraft (length of boom) for 1 millisecond will have the following speed\n",
    "object_speed = sample_momentum_from_a_collision / (.01 * .5 * boom_length)\n",
    "print(object_speed)\n",
    "print(sample_momentum_from_a_collision)"
   ]
  },
  {
   "cell_type": "code",
   "execution_count": 31,
   "metadata": {},
   "outputs": [
    {
     "data": {
      "text/plain": [
       "0.7284618213958981"
      ]
     },
     "execution_count": 31,
     "metadata": {},
     "output_type": "execute_result"
    }
   ],
   "source": [
    "CMG_total_torque_output = 1e-3 * 4\n",
    "CMG_total_momentum_storage = 10e-3 * 4\n",
    "\n",
    "maximum_time_to_ = CMG_total_momentum_storage / ()"
   ]
  }
 ],
 "metadata": {
  "kernelspec": {
   "display_name": "Python 3.10.8 64-bit",
   "language": "python",
   "name": "python3"
  },
  "language_info": {
   "codemirror_mode": {
    "name": "ipython",
    "version": 3
   },
   "file_extension": ".py",
   "mimetype": "text/x-python",
   "name": "python",
   "nbconvert_exporter": "python",
   "pygments_lexer": "ipython3",
   "version": "3.10.8"
  },
  "orig_nbformat": 4,
  "vscode": {
   "interpreter": {
    "hash": "b0fa6594d8f4cbf19f97940f81e996739fb7646882a419484c72d19e05852a7e"
   }
  }
 },
 "nbformat": 4,
 "nbformat_minor": 2
}
