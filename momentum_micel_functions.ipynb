{
 "cells": [
  {
   "cell_type": "code",
   "execution_count": 27,
   "metadata": {},
   "outputs": [
    {
     "name": "stdout",
     "output_type": "stream",
     "text": [
      "/Applications/Xcode.app/Contents/Developer/usr/bin/python3: No module named pip3\n"
     ]
    },
    {
     "ename": "ModuleNotFoundError",
     "evalue": "No module named 'matplotlib'",
     "output_type": "error",
     "traceback": [
      "\u001b[0;31m---------------------------------------------------------------------------\u001b[0m",
      "\u001b[0;31mModuleNotFoundError\u001b[0m                       Traceback (most recent call last)",
      "Cell \u001b[0;32mIn[27], line 5\u001b[0m\n\u001b[1;32m      3\u001b[0m \u001b[39mimport\u001b[39;00m \u001b[39msys\u001b[39;00m\n\u001b[1;32m      4\u001b[0m get_ipython()\u001b[39m.\u001b[39msystem(\u001b[39m'\u001b[39m\u001b[39m{sys.executable}\u001b[39;00m\u001b[39m -m pip3 install matplotlib\u001b[39m\u001b[39m'\u001b[39m)\n\u001b[0;32m----> 5\u001b[0m \u001b[39mimport\u001b[39;00m \u001b[39mmatplotlib\u001b[39;00m\u001b[39m.\u001b[39;00m\u001b[39mpyplot\u001b[39;00m \u001b[39mas\u001b[39;00m \u001b[39mmpl\u001b[39;00m\n",
      "\u001b[0;31mModuleNotFoundError\u001b[0m: No module named 'matplotlib'"
     ]
    }
   ],
   "source": [
    "import math\n",
    "import numpy as np\n",
    "import sys\n",
    "!{sys.executable} -m pip3 install matplotlib\n",
    "import matplotlib.pyplot as mpl"
   ]
  },
  {
   "cell_type": "code",
   "execution_count": 4,
   "metadata": {},
   "outputs": [],
   "source": [
    "#Actuator: (Magnetotorquer)\n",
    "\n",
    "class magneticTorquer():\n",
    "\n",
    "\n",
    "    def __init__(self, name, mass, powerConsumption, torqueOutput, totalPowerExpenditure, orientation):\n",
    "        self.name = name\n",
    "        self.mass = mass\n",
    "        self.powerConsumption = powerConsumption\n",
    "        self.torqueOutput = torqueOutput\n",
    "        self.relativePosition = [0,\"x\"]\n",
    "        self.totalPowerExpenditure = totalPowerExpenditure\n",
    "        self.orientation = orientation\n",
    "    \n",
    "\n",
    "    def getName(self):\n",
    "        return self.__name\n",
    "    def setName(self, newName):\n",
    "        self.__name = newName\n",
    "\n",
    "    def getMass(self):\n",
    "        return self.__mass #7.5 kg?\n",
    "    def setMass(self, newMass):\n",
    "        self.__mass = newMass\n",
    "    \n",
    "    def getPowerConsumption(self):\n",
    "        return self.__powerConsumption \n",
    "    def setPowerConsumption(self, newPowerConsumption):\n",
    "        self.__powerConsumption = newPowerConsumption\n",
    "    \n",
    "    def getTorqueOutput(self):\n",
    "        return self.__torqueOutput\n",
    "    def setTorqueOutput(self, newTorqueOutput):\n",
    "        self.__torqueOutput = self.newTorqueOutput\n",
    "    \n",
    "    def getRelativePosition(self): #ranges from (-32.5,32.5) m, x y, (distance from the center, axis)\n",
    "        return self.__relativePosition\n",
    "    def getDistanceOrigin(self):\n",
    "        return self.relativePosition[0]\n",
    "    def getPositionAxis(self):\n",
    "        return str(self.relativePosition[1])\n",
    "    def setRelativePosition(self, distance, axis):\n",
    "        if axis not in {\"x\", \"y\"}:\n",
    "            raise AssertionError\n",
    "        self.__relativePosition = np.array([np.clip(distance, -32.5, 32.5),axis])\n",
    "    def setRelativePosition(self):\n",
    "        self.relativePosition = [0,\"x\"]\n",
    "    def setRelativePosition(self, newRelativePosition):\n",
    "        self.__relativePosition = self.newRelativePosition\n",
    "    def setDistanceOrigin(self, distance):\n",
    "        self.__relativePosition[0] = np.array([np.clip(distance, -32.5, 32.5),self.__relativePosition[1]])\n",
    "    def setPositionAxis(self, axis):\n",
    "        if axis not in {\"x\", \"y\"}:\n",
    "            raise AssertionError\n",
    "        self.__relativePosition[0] = np.array(self.__relativePosition[0], axis)\n",
    "\n",
    "    def getTotalPowerExpenditure(self):\n",
    "        return self.__totalPowerExpenditure\n",
    "    \n",
    "    def getOrientation(self): #the name of the axis it is on (+y/-y)\n",
    "        return self.__orientation"
   ]
  },
  {
   "cell_type": "code",
   "execution_count": 9,
   "metadata": {},
   "outputs": [
    {
     "name": "stdout",
     "output_type": "stream",
     "text": [
      "0.030803066666666667\n",
      "6.699309144330632e-19\n",
      "0.011573753774530165\n",
      "0.019229312892136502\n"
     ]
    }
   ],
   "source": [
    "# -*- coding: utf-8 -*-\n",
    "\"\"\"Calculations_Disturbance_Torques.ipynb\n",
    "Original file is located at\n",
    "    https://colab.research.google.com/drive/1b3scBauWIFCO3S7pDyM5HyxRLg6FP0ot\n",
    "\"\"\"\n",
    "\n",
    "import math\n",
    "# Disturbance Torques Calculation\n",
    "\n",
    "#Solar Radiation Torque\n",
    "def calculateSolarRad(J,c,A,I,q):\n",
    "  # in Newtons\n",
    "  return (J*A*math.cos(I)*(1+q))/c\n",
    "\n",
    "J = 1367 #Js\n",
    "c = 3*10**8\n",
    "As = 65*65 #total surface area\n",
    "I = 0 #angle of incidence of the solar radiation -> max of cos(I) is 1\n",
    "q = 0.6 #reflectance factor\n",
    "solarRadiationTorque = calculateSolarRad(J,c,As,I,q)\n",
    "print(solarRadiationTorque) # In Newtons\n",
    "\n",
    "#Magnetic Field Torque\n",
    "def calculateMagField(B, c, R):\n",
    "  return float(B)*float(c)/float(R)**3\n",
    "\n",
    "B = 10000#magnetic field strength in teslas\n",
    "c = 1 #approximation constant 1-> polar orbit 2-> equatorial orbit\n",
    "R = 24622000#distance to Neptune's dipole center in meters\n",
    "#D is satellite's dipole (minimize by including twist in cables)\n",
    "magneticFieldTorque = calculateMagField(B,c,R)\n",
    "print(magneticFieldTorque) # In Newtons\n",
    "\n",
    "#Gravity Gradient Torque\n",
    "def calculateGravityGradient(mu, R, Iz, Iy, theta):\n",
    "  return (3.0*float(mu**2)*(float(Iz)-float(Iy))*math.sin(2.0*theta))/(2*float(R**3))\n",
    "\n",
    "Iz= (1/12)*60*(65^2*65^2) #moments of inertia, assume it is a rectangular plane (1/12)*m*(a^2+b^2)\n",
    "Iy= (1/12)*60*65*65 #I= (1/12)*m*(b^2)\n",
    "theta = math.pi/2#max angle the local vertical makes from the z-axis\n",
    "mu = (6.67*10**-11)*(1.024*10**26) #planetary constant, -G*mass of planet\n",
    "R = 24622000 #distance to Neptune's dipole center in meters\n",
    "gravityGradient = calculateGravityGradient(mu, R, Iz, Iy, theta)\n",
    "print(-gravityGradient)\n",
    "\n",
    "SumDisturbanceTorques = magneticFieldTorque+gravityGradient+solarRadiationTorque\n",
    "print(SumDisturbanceTorques)\n",
    "\n",
    "#Required Torque is any of the Torques*1.25 or Slew Torque\n",
    "def calculateSlewTorque(theta, I, t):\n",
    "  return 4*theta*I*(t**2)\n",
    "\n",
    "I= (1/12)*60*65*65 \n",
    "#slew angle\n",
    "#t = time where slew maneuvers must be performed\n",
    "\n",
    "Td = SumDisturbanceTorques *1.25\n",
    "\n",
    "#Required Momentum Storage\n",
    "def calcMomentumStorage(Td, P):\n",
    "  return Td*(P**4)\n",
    "\n",
    "# Td Slew Torque\n",
    "# P Period of the Solar Sail's Orbit\n",
    "\n",
    "#Calculation of Aerodynamic Torque\n",
    "#assume it is negligible because not much air in space\n",
    "def calculateAeroTorque(p, C, A, V, Cg, Cp):\n",
    "  return 0.5*(p*C*A*V^2)*(Cp-Cg)\n",
    "\n",
    "# p = atmosphere density\n",
    "# Cd = #drag coefficient\n",
    "# A = #area of the front-facing satellite\n",
    "# V = #spacecraft's velocity\n",
    "# Cg = #center of gravity\n",
    "# Cp = #center of aerodynamic pressure\n"
   ]
  }
 ],
 "metadata": {
  "kernelspec": {
   "display_name": "Python 3.8.9 64-bit",
   "language": "python",
   "name": "python3"
  },
  "language_info": {
   "codemirror_mode": {
    "name": "ipython",
    "version": 3
   },
   "file_extension": ".py",
   "mimetype": "text/x-python",
   "name": "python",
   "nbconvert_exporter": "python",
   "pygments_lexer": "ipython3",
   "version": "3.8.9"
  },
  "orig_nbformat": 4,
  "vscode": {
   "interpreter": {
    "hash": "31f2aee4e71d21fbe5cf8b01ff0e069b9275f58929596ceb00d14d90e3e16cd6"
   }
  }
 },
 "nbformat": 4,
 "nbformat_minor": 2
}
